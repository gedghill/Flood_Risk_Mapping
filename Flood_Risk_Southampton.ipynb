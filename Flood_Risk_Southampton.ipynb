{
 "cells": [
  {
   "cell_type": "code",
   "execution_count": 1,
   "id": "da567398-fdb8-49a6-9213-f8c15af29bd6",
   "metadata": {},
   "outputs": [],
   "source": [
    "#import necessary libraries\n",
    "import geopandas as gpd"
   ]
  },
  {
   "cell_type": "code",
   "execution_count": 5,
   "id": "37af4a28-f07b-4723-8054-b5680cfcc420",
   "metadata": {},
   "outputs": [],
   "source": [
    "buildings = gpd.read_file('Data/Southampton.gpkg')\n",
    "floodzone = gpd.read_file('Data/Flood_Map_for_Planning_Rivers_and_Sea_Flood_Zone_2Polygon.shp')"
   ]
  },
  {
   "cell_type": "code",
   "execution_count": 9,
   "id": "003e7615-0915-4f43-ab22-3b5be7030506",
   "metadata": {},
   "outputs": [
    {
     "name": "stdout",
     "output_type": "stream",
     "text": [
      "EPSG:27700\n",
      "EPSG:27700\n"
     ]
    }
   ],
   "source": [
    "#Convert buildings crs to match floodzone crs\n",
    "buildings= buildings.to_crs(floodzone.crs)\n",
    "#Ensure both shapefiles are in the same crs\n",
    "print(buildings.crs)\n",
    "print(floodzone.crs)"
   ]
  },
  {
   "cell_type": "code",
   "execution_count": null,
   "id": "ed0bdc86-76a1-4f94-8038-fac3a56c8715",
   "metadata": {},
   "outputs": [],
   "source": []
  }
 ],
 "metadata": {
  "kernelspec": {
   "display_name": "Python 3 (ipykernel)",
   "language": "python",
   "name": "python3"
  },
  "language_info": {
   "codemirror_mode": {
    "name": "ipython",
    "version": 3
   },
   "file_extension": ".py",
   "mimetype": "text/x-python",
   "name": "python",
   "nbconvert_exporter": "python",
   "pygments_lexer": "ipython3",
   "version": "3.12.4"
  }
 },
 "nbformat": 4,
 "nbformat_minor": 5
}
