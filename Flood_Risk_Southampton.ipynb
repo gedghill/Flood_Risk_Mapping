{
 "cells": [
  {
   "cell_type": "code",
   "execution_count": 1,
   "id": "da567398-fdb8-49a6-9213-f8c15af29bd6",
   "metadata": {},
   "outputs": [],
   "source": [
    "#import necessary libraries\n",
    "import geopandas as gpd"
   ]
  },
  {
   "cell_type": "code",
   "execution_count": 8,
   "id": "37af4a28-f07b-4723-8054-b5680cfcc420",
   "metadata": {},
   "outputs": [],
   "source": [
    "buildings = gpd.read_file('Data/Southampton.gpkg')\n",
    "floodzone = gpd.read_file('Data/Flood_Map_for_Planning_Rivers_and_Sea_Flood_Zone_2Polygon.shp')"
   ]
  },
  {
   "cell_type": "code",
   "execution_count": 9,
   "id": "003e7615-0915-4f43-ab22-3b5be7030506",
   "metadata": {},
   "outputs": [
    {
     "name": "stdout",
     "output_type": "stream",
     "text": [
      "EPSG:27700\n",
      "EPSG:27700\n"
     ]
    }
   ],
   "source": [
    "#Convert buildings crs to match floodzone crs\n",
    "buildings= buildings.to_crs(floodzone.crs)\n",
    "#Ensure both shapefiles are in the same crs\n",
    "print(buildings.crs)\n",
    "print(floodzone.crs)"
   ]
  },
  {
   "cell_type": "code",
   "execution_count": 10,
   "id": "ed0bdc86-76a1-4f94-8038-fac3a56c8715",
   "metadata": {},
   "outputs": [],
   "source": [
    "#Perform a spatial join to find buildings that intersect with floodzone\n",
    "buildings_in_floodzone = gpd.sjoin(\n",
    "    buildings,\n",
    "    floodzone,\n",
    "    how = 'inner',\n",
    "    predicate = 'intersects'\n",
    ")\n",
    "buildings_in_floodzone = buildings_in_floodzone[buildings.columns]\n",
    "#Save to new file\n",
    "buildings_in_floodzone.to_file('buildings_in_floodzone.shp')"
   ]
  },
  {
   "cell_type": "code",
   "execution_count": 11,
   "id": "1e12ccee-ec67-4e92-beaa-2e81c2f04da1",
   "metadata": {},
   "outputs": [],
   "source": [
    "import folium"
   ]
  },
  {
   "cell_type": "code",
   "execution_count": 13,
   "id": "ea3f45c5-295b-4b77-a301-c1366fe24b35",
   "metadata": {},
   "outputs": [],
   "source": [
    "buildings_in_floodzone = buildings_in_floodzone.to_crs('EPSG:4326')\n",
    "floodzone = floodzone.to_crs('EPSG:4326')\n",
    "bounds = buildings_in_floodzone.total_bounds\n",
    "m = folium.Map(\n",
    "    location=[(bounds[1] + bounds[3])/2, (bounds[0] + bounds[2])/2],\n",
    "    zoom_start=13,\n",
    "    tiles='OpenStreetMap'\n",
    ")\n",
    "# Add flood zone layer\n",
    "flood_layer = folium.GeoJson(\n",
    "    floodzone,\n",
    "    name='Flood Zone',\n",
    "    style_function=lambda x: {\n",
    "        'fillColor': '#9100cc',  # Purple\n",
    "        'color': '#9100cc',\n",
    "        'weight': 1,\n",
    "        'fillOpacity': 0.4\n",
    "    },\n",
    "    tooltip=folium.GeoJsonTooltip(fields=['type'], aliases=['Flood Type:']), #customize tooltip to display popup of flood type\n",
    "    show=True\n",
    ").add_to(m)\n",
    "\n",
    "# Add buildings in flood zone layer\n",
    "buildings_layer = folium.GeoJson(\n",
    "    buildings_in_floodzone,\n",
    "    name='Buildings at Risk',\n",
    "    style_function=lambda x: {\n",
    "        'fillColor': '#FF4500',  # Orange-red\n",
    "        'color': '#FF4500',\n",
    "        'weight': 0.5,\n",
    "        'fillOpacity': 0.7\n",
    "    },\n",
    "    tooltip=folium.GeoJsonTooltip( #customize popup to display fields\n",
    "        fields=['id'],  # Display building ID\n",
    "        aliases=['Building ID'],\n",
    "        sticky=True  # Makes tooltip stay visible\n",
    "    ),\n",
    "    show=True\n",
    ").add_to(m)\n",
    "\n",
    "m.save('Flood_Risk_Map_osm.html')"
   ]
  },
  {
   "cell_type": "code",
   "execution_count": null,
   "id": "7d66fb8a-3dd0-4ce8-97f2-23017d9ea18c",
   "metadata": {},
   "outputs": [],
   "source": []
  }
 ],
 "metadata": {
  "kernelspec": {
   "display_name": "Python 3 (ipykernel)",
   "language": "python",
   "name": "python3"
  },
  "language_info": {
   "codemirror_mode": {
    "name": "ipython",
    "version": 3
   },
   "file_extension": ".py",
   "mimetype": "text/x-python",
   "name": "python",
   "nbconvert_exporter": "python",
   "pygments_lexer": "ipython3",
   "version": "3.12.4"
  }
 },
 "nbformat": 4,
 "nbformat_minor": 5
}
